{
 "cells": [
  {
   "cell_type": "code",
   "execution_count": 13,
   "metadata": {},
   "outputs": [],
   "source": [
    "import pandas as pd\n",
    "import numpy as np\n",
    "import pickle\n",
    "\n",
    "from tqdm import tqdm\n",
    "\n",
    "from sklearn.metrics import f1_score\n",
    "from sklearn.linear_model import LinearRegression\n",
    "from sklearn.preprocessing import StandardScaler\n",
    "from sklearn.model_selection import cross_val_score\n",
    "from sklearn.base import BaseEstimator, ClassifierMixin\n",
    "from sklearn.feature_extraction.text import TfidfTransformer\n",
    "from sklearn import svm"
   ]
  },
  {
   "cell_type": "code",
   "execution_count": 14,
   "metadata": {},
   "outputs": [],
   "source": [
    "with open('ready2go/x_train_apostles.pickle', 'rb') as f:\n",
    "    x_train_apostles = pickle.load(f)\n",
    "with open('ready2go/x_test_apostles.pickle', 'rb') as f:\n",
    "    x_test_apostles = pickle.load(f)\n",
    "    \n",
    "with open('ready2go/x_train_intersect.pickle', 'rb') as f:\n",
    "    x_train_intersect = pickle.load(f)\n",
    "with open('ready2go/x_test_intersect.pickle', 'rb') as f:\n",
    "    x_test_intersect = pickle.load(f)\n",
    "    \n",
    "with open('ready2go/x_train_full.pickle', 'rb') as f:\n",
    "    x_train_full = pickle.load(f)\n",
    "with open('ready2go/x_test_full.pickle', 'rb') as f:\n",
    "    x_test_full = pickle.load(f)\n",
    "    \n",
    "with open('ready2go/y_train.pickle', 'rb') as f:\n",
    "    y_train = pickle.load(f)\n",
    "x_train_apostles = np.array(x_train_apostles)\n",
    "x_test_apostles = np.array(x_test_apostles)\n",
    "\n",
    "x_train_intersect = np.array(x_train_intersect)\n",
    "x_test_intersect = np.array(x_test_intersect)\n",
    "\n",
    "x_train_full = np.array(x_train_full)\n",
    "x_test_full = np.array(x_test_full)\n",
    "\n",
    "y_train = np.array(y_train)"
   ]
  },
  {
   "cell_type": "code",
   "execution_count": 15,
   "metadata": {},
   "outputs": [
    {
     "name": "stdout",
     "output_type": "stream",
     "text": [
      "(11690, 12) (16627, 12)\n",
      "(11690, 25) (16627, 25)\n",
      "(11690, 25) (16627, 25)\n",
      "(11690,)\n"
     ]
    }
   ],
   "source": [
    "print(x_train_apostles.shape, x_test_apostles.shape)\n",
    "print(x_train_intersect.shape, x_test_intersect.shape)\n",
    "print(x_train_full.shape, x_test_full.shape)\n",
    "print(y_train.shape)"
   ]
  },
  {
   "cell_type": "code",
   "execution_count": 16,
   "metadata": {},
   "outputs": [
    {
     "name": "stdout",
     "output_type": "stream",
     "text": [
      "(11690, 37)\n",
      "(16627, 37)\n"
     ]
    }
   ],
   "source": [
    "X_train = np.hstack((x_train_apostles, x_train_intersect[:, :]))\n",
    "X_test = np.hstack((x_test_apostles, x_test_intersect[:, :]))\n",
    "print(X_train.shape)\n",
    "print(X_test.shape)"
   ]
  },
  {
   "cell_type": "code",
   "execution_count": 17,
   "metadata": {},
   "outputs": [
    {
     "data": {
      "text/plain": [
       "((11690, 25), (16627, 25))"
      ]
     },
     "execution_count": 17,
     "metadata": {},
     "output_type": "execute_result"
    }
   ],
   "source": [
    "X_concatenated_full = np.vstack((x_train_full, x_test_full))\n",
    "\n",
    "scaler = StandardScaler()\n",
    "X_concatenated_scaled_full = scaler.fit_transform(X_concatenated_full)\n",
    "X_train_scaled_full = X_concatenated_scaled_full[:x_train_full.shape[0]]\n",
    "X_test_scaled_full = X_concatenated_scaled_full[x_train_full.shape[0]:]\n",
    "X_train_scaled_full.shape, X_test_scaled_full.shape"
   ]
  },
  {
   "cell_type": "code",
   "execution_count": 18,
   "metadata": {},
   "outputs": [
    {
     "data": {
      "text/plain": [
       "(11690, 16627)"
      ]
     },
     "execution_count": 18,
     "metadata": {},
     "output_type": "execute_result"
    }
   ],
   "source": [
    "X_concatenated = np.vstack((X_train, X_test))\n",
    "\n",
    "scaler = StandardScaler()\n",
    "X_concatenated_scaled = scaler.fit_transform(X_concatenated)\n",
    "X_train_scaled = X_concatenated_scaled[:X_train.shape[0]]\n",
    "X_test_scaled = X_concatenated_scaled[X_train.shape[0]:]\n",
    "X_train_scaled.shape[0], X_test_scaled.shape[0]"
   ]
  },
  {
   "cell_type": "code",
   "execution_count": 19,
   "metadata": {},
   "outputs": [
    {
     "name": "stderr",
     "output_type": "stream",
     "text": [
      "/home/sapun/miniconda3/envs/sphere-py37/lib/python3.7/site-packages/sklearn/ensemble/forest.py:245: FutureWarning: The default value of n_estimators will change from 10 in version 0.20 to 100 in 0.22.\n",
      "  \"10 in version 0.20 to 100 in 0.22.\", FutureWarning)\n",
      "/home/sapun/miniconda3/envs/sphere-py37/lib/python3.7/site-packages/sklearn/ensemble/forest.py:245: FutureWarning: The default value of n_estimators will change from 10 in version 0.20 to 100 in 0.22.\n",
      "  \"10 in version 0.20 to 100 in 0.22.\", FutureWarning)\n",
      "/home/sapun/miniconda3/envs/sphere-py37/lib/python3.7/site-packages/sklearn/linear_model/logistic.py:432: FutureWarning: Default solver will be changed to 'lbfgs' in 0.22. Specify a solver to silence this warning.\n",
      "  FutureWarning)\n",
      "/home/sapun/miniconda3/envs/sphere-py37/lib/python3.7/site-packages/sklearn/ensemble/forest.py:245: FutureWarning: The default value of n_estimators will change from 10 in version 0.20 to 100 in 0.22.\n",
      "  \"10 in version 0.20 to 100 in 0.22.\", FutureWarning)\n",
      "/home/sapun/miniconda3/envs/sphere-py37/lib/python3.7/site-packages/sklearn/ensemble/forest.py:245: FutureWarning: The default value of n_estimators will change from 10 in version 0.20 to 100 in 0.22.\n",
      "  \"10 in version 0.20 to 100 in 0.22.\", FutureWarning)\n",
      "/home/sapun/miniconda3/envs/sphere-py37/lib/python3.7/site-packages/sklearn/linear_model/logistic.py:432: FutureWarning: Default solver will be changed to 'lbfgs' in 0.22. Specify a solver to silence this warning.\n",
      "  FutureWarning)\n"
     ]
    },
    {
     "name": "stdout",
     "output_type": "stream",
     "text": [
      "0.8445176341429944\n"
     ]
    }
   ],
   "source": [
    "from sklearn.model_selection import StratifiedKFold\n",
    "from sklearn.linear_model import LinearRegression\n",
    "from sklearn.linear_model import LogisticRegression\n",
    "from sklearn.ensemble import ExtraTreesClassifier\n",
    "from sklearn.ensemble import RandomForestRegressor\n",
    "from sklearn.ensemble import RandomForestClassifier\n",
    "\n",
    "from sklearn.ensemble import AdaBoostClassifier\n",
    "\n",
    "from sklearn import svm\n",
    "\n",
    "forest = RandomForestClassifier(max_depth=10)\n",
    "forest_full = RandomForestClassifier(max_depth=10)\n",
    "\n",
    "regr = ExtraTreesClassifier(max_depth=15)\n",
    "regr_full = ExtraTreesClassifier(max_depth=15)\n",
    "\n",
    "log = LogisticRegression()\n",
    "log_full = LogisticRegression()\n",
    "\n",
    "ada = AdaBoostClassifier(n_estimators=50, algorithm='SAMME')\n",
    "ada_full = AdaBoostClassifier(n_estimators=50, algorithm='SAMME')\n",
    "\n",
    "forest.fit(X_train_scaled, y_train)\n",
    "regr.fit(X_train_scaled, y_train)\n",
    "log.fit(X_train_scaled, y_train)\n",
    "ada.fit(X_train_scaled, y_train)\n",
    "\n",
    "\n",
    "forest_full.fit(X_train_scaled_full, y_train)\n",
    "regr_full.fit(X_train_scaled_full, y_train)\n",
    "log_full.fit(X_train_scaled_full, y_train)\n",
    "ada_full.fit(X_train_scaled_full, y_train)\n",
    "\n",
    "from_titles = (forest.predict_proba(X_train_scaled)[:, 1] +\\\n",
    "               regr.predict_proba(X_train_scaled)[: ,1] +\\\n",
    "               log.predict_proba(X_train_scaled)[:, 1] +\\\n",
    "               ada.predict_proba(X_train_scaled)[:, 1])/ 4\n",
    "\n",
    "from_texts = (forest_full.predict_proba(X_train_scaled_full)[:, 1] +\\\n",
    "              regr_full.predict_proba(X_train_scaled_full)[: ,1] +\\\n",
    "              log_full.predict_proba(X_train_scaled_full)[:, 1] +\\\n",
    "              ada_full.predict_proba(X_train_scaled_full)[:, 1]) / 4\n",
    "\n",
    "y_pred = (from_titles + from_texts) / 2\n",
    "res = f1_score(y_train, np.array(y_pred > 0.4, dtype=int))\n",
    "print(res)"
   ]
  },
  {
   "cell_type": "code",
   "execution_count": 20,
   "metadata": {},
   "outputs": [
    {
     "name": "stdout",
     "output_type": "stream",
     "text": [
      "[1 1 0 ... 1 1 1]\n"
     ]
    }
   ],
   "source": [
    "from_titles = (forest.predict_proba(X_test_scaled)[:, 1] +\\\n",
    "               regr.predict_proba(X_test_scaled)[: ,1] +\\\n",
    "               log.predict_proba(X_test_scaled)[:, 1]) / 3\n",
    "\n",
    "from_texts = (forest_full.predict_proba(X_test_scaled_full)[:, 1] +\\\n",
    "              regr_full.predict_proba(X_test_scaled_full)[: ,1] +\\\n",
    "              log_full.predict_proba(X_test_scaled_full)[:, 1]) / 3\n",
    "\n",
    "y_pred = (from_titles + from_texts) / 2\n",
    "y_pred_test = np.array(y_pred > 0.4, dtype=int)\n",
    "print(y_pred_test)"
   ]
  },
  {
   "cell_type": "code",
   "execution_count": 21,
   "metadata": {},
   "outputs": [],
   "source": [
    "test_data = pd.read_csv('test_groups.csv')"
   ]
  },
  {
   "cell_type": "code",
   "execution_count": 22,
   "metadata": {},
   "outputs": [],
   "source": [
    "ans_data = {'pair_id': [], 'target': []}\n",
    "ans_data['pair_id'] = test_data['pair_id']\n",
    "ans_data['target'] = np.array(y_pred_test, dtype=int)\n",
    "df = pd.DataFrame(ans_data, columns = ['pair_id', 'target'])\n",
    "df.to_csv('my_prediction.csv', index=None)"
   ]
  },
  {
   "cell_type": "code",
   "execution_count": null,
   "metadata": {},
   "outputs": [],
   "source": []
  }
 ],
 "metadata": {
  "kernelspec": {
   "display_name": "Python 3",
   "language": "python",
   "name": "python3"
  },
  "language_info": {
   "codemirror_mode": {
    "name": "ipython",
    "version": 3
   },
   "file_extension": ".py",
   "mimetype": "text/x-python",
   "name": "python",
   "nbconvert_exporter": "python",
   "pygments_lexer": "ipython3",
   "version": "3.7.4"
  }
 },
 "nbformat": 4,
 "nbformat_minor": 2
}
